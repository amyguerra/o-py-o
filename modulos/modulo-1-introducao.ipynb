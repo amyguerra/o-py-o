{
  "nbformat": 4,
  "nbformat_minor": 0,
  "metadata": {
    "kernelspec": {
      "display_name": "Python 3",
      "language": "python",
      "name": "python3"
    },
    "language_info": {
      "codemirror_mode": {
        "name": "ipython",
        "version": 3
      },
      "file_extension": ".py",
      "mimetype": "text/x-python",
      "name": "python",
      "nbconvert_exporter": "python",
      "pygments_lexer": "ipython3",
      "version": "3.6.10"
    },
    "colab": {
      "name": "modulo-1-introducao.ipynb",
      "provenance": [],
      "include_colab_link": true
    }
  },
  "cells": [
    {
      "cell_type": "markdown",
      "metadata": {
        "id": "view-in-github",
        "colab_type": "text"
      },
      "source": [
        "<a href=\"https://colab.research.google.com/github/amyguerra/o-py-o/blob/master/modulos/modulo-1-introducao.ipynb\" target=\"_parent\"><img src=\"https://colab.research.google.com/assets/colab-badge.svg\" alt=\"Open In Colab\"/></a>"
      ]
    },
    {
      "cell_type": "markdown",
      "metadata": {
        "id": "4zQ-lggneGq9",
        "colab_type": "text"
      },
      "source": [
        "<img src=\"https://github.com/amyguerra/o-py-o/blob/master/imagens/1.png?raw=1\">\n",
        "\n",
        "## Revisando o conteúdo da semana!\n",
        "\n",
        "##Amy Guerra"
      ]
    },
    {
      "cell_type": "markdown",
      "metadata": {
        "id": "l5MPmwWmeGq_",
        "colab_type": "text"
      },
      "source": [
        "1 - Em uma instrução print, o que acontece se você omitir um dos parênteses ou ambos?"
      ]
    },
    {
      "cell_type": "code",
      "metadata": {
        "id": "H7vZSbW7eGrB",
        "colab_type": "code",
        "colab": {
          "base_uri": "https://localhost:8080/",
          "height": 34
        },
        "outputId": "4c1dd2d9-ff64-4def-822e-a993a23e777c"
      },
      "source": [
        ">>> print ('Hello,Word!')"
      ],
      "execution_count": 3,
      "outputs": [
        {
          "output_type": "stream",
          "text": [
            "Hello,Word!\n"
          ],
          "name": "stdout"
        }
      ]
    },
    {
      "cell_type": "markdown",
      "metadata": {
        "id": "YGlxNfNkeGrL",
        "colab_type": "text"
      },
      "source": [
        "2 - O que acontece se puser um sinal de mais antes de um número? E se escrever assim: 2++2?"
      ]
    },
    {
      "cell_type": "code",
      "metadata": {
        "id": "m6XXfkMreGrM",
        "colab_type": "code",
        "colab": {
          "base_uri": "https://localhost:8080/",
          "height": 34
        },
        "outputId": "dff473b0-4e67-495b-e28a-b26f736c8fea"
      },
      "source": [
        ">>> 2++2"
      ],
      "execution_count": 4,
      "outputs": [
        {
          "output_type": "execute_result",
          "data": {
            "text/plain": [
              "4"
            ]
          },
          "metadata": {
            "tags": []
          },
          "execution_count": 4
        }
      ]
    },
    {
      "cell_type": "markdown",
      "metadata": {
        "id": "r2LhB92meGrR",
        "colab_type": "text"
      },
      "source": [
        "3 - O que acontece se você tentar usar 02 isso no Python?"
      ]
    },
    {
      "cell_type": "code",
      "metadata": {
        "id": "EnX3reeWeGrS",
        "colab_type": "code",
        "colab": {
          "base_uri": "https://localhost:8080/",
          "height": 129
        },
        "outputId": "04e0a682-209d-44c1-aa81-789e4b8c35c9"
      },
      "source": [
        ">>> 02\n"
      ],
      "execution_count": 5,
      "outputs": [
        {
          "output_type": "error",
          "ename": "SyntaxError",
          "evalue": "ignored",
          "traceback": [
            "\u001b[0;36m  File \u001b[0;32m\"<ipython-input-5-0908cbeb2fbd>\"\u001b[0;36m, line \u001b[0;32m1\u001b[0m\n\u001b[0;31m    02\u001b[0m\n\u001b[0m     ^\u001b[0m\n\u001b[0;31mSyntaxError\u001b[0m\u001b[0;31m:\u001b[0m invalid token\n"
          ]
        }
      ]
    },
    {
      "cell_type": "markdown",
      "metadata": {
        "id": "7YbvP2meeGra",
        "colab_type": "text"
      },
      "source": [
        "4 - Quantos segundos há em 42 minutos e 42 segundos?"
      ]
    },
    {
      "cell_type": "code",
      "metadata": {
        "id": "p2DcCbT3eGrb",
        "colab_type": "code",
        "colab": {
          "base_uri": "https://localhost:8080/",
          "height": 34
        },
        "outputId": "8b17a721-4d5d-4d70-b80c-15f45889c52e"
      },
      "source": [
        "minuto=60\n",
        "segundos = 42*minuto\n",
        "print(\"Existem {} segundos em 42 minutos e 42 segundos\".format(segundos+42))"
      ],
      "execution_count": 28,
      "outputs": [
        {
          "output_type": "stream",
          "text": [
            "Existem 2562 segundos em 42 minutos e 42 segundos\n"
          ],
          "name": "stdout"
        }
      ]
    },
    {
      "cell_type": "markdown",
      "metadata": {
        "id": "pk3Sc3HieGrg",
        "colab_type": "text"
      },
      "source": [
        "5 - Vimos que n = 42 é legal. E 42 = n?"
      ]
    },
    {
      "cell_type": "code",
      "metadata": {
        "id": "R5GJn4t1eGrh",
        "colab_type": "code",
        "colab": {
          "base_uri": "https://localhost:8080/",
          "height": 129
        },
        "outputId": "6b256ee5-6576-4726-d1a7-a5b68c30d799"
      },
      "source": [
        "60=minuto\n",
        "segundos=42*minuto\n",
        "print(\"Existem {}segundos em 42 minutos e 42 segundos\" .format(segundos+42))"
      ],
      "execution_count": 29,
      "outputs": [
        {
          "output_type": "error",
          "ename": "SyntaxError",
          "evalue": "ignored",
          "traceback": [
            "\u001b[0;36m  File \u001b[0;32m\"<ipython-input-29-1b86f622cfc3>\"\u001b[0;36m, line \u001b[0;32m1\u001b[0m\n\u001b[0;31m    60=minuto\u001b[0m\n\u001b[0m             ^\u001b[0m\n\u001b[0;31mSyntaxError\u001b[0m\u001b[0;31m:\u001b[0m can't assign to literal\n"
          ]
        }
      ]
    },
    {
      "cell_type": "markdown",
      "metadata": {
        "id": "7UdA3Z4eeGrl",
        "colab_type": "text"
      },
      "source": [
        "6 - Ou x = y = 1?\n"
      ]
    },
    {
      "cell_type": "code",
      "metadata": {
        "id": "fB9NBKk3eGrm",
        "colab_type": "code",
        "colab": {
          "base_uri": "https://localhost:8080/",
          "height": 51
        },
        "outputId": "46a6751d-b917-4bc9-fb06-1f06485d8be8"
      },
      "source": [
        "x = y = 1\n",
        "\n",
        "print(\"X\",x)\n",
        "print(\"Y\",y)"
      ],
      "execution_count": 30,
      "outputs": [
        {
          "output_type": "stream",
          "text": [
            "X 1\n",
            "Y 1\n"
          ],
          "name": "stdout"
        }
      ]
    },
    {
      "cell_type": "markdown",
      "metadata": {
        "id": "9CYo6YJ6eGrs",
        "colab_type": "text"
      },
      "source": [
        "7 - O que acontece se você puser um ponto e vírgula no fim de uma instrução no Python? E um ponto?"
      ]
    },
    {
      "cell_type": "code",
      "metadata": {
        "id": "vm8JFglReGrt",
        "colab_type": "code",
        "colab": {
          "base_uri": "https://localhost:8080/",
          "height": 129
        },
        "outputId": "2d3d7f3a-296f-47f5-c044-8433714376c5"
      },
      "source": [
        ">>> print ('Hello,Word!')."
      ],
      "execution_count": 13,
      "outputs": [
        {
          "output_type": "error",
          "ename": "SyntaxError",
          "evalue": "ignored",
          "traceback": [
            "\u001b[0;36m  File \u001b[0;32m\"<ipython-input-13-66dd98710a22>\"\u001b[0;36m, line \u001b[0;32m1\u001b[0m\n\u001b[0;31m    print ('Hello,Word!').\u001b[0m\n\u001b[0m                          ^\u001b[0m\n\u001b[0;31mSyntaxError\u001b[0m\u001b[0;31m:\u001b[0m invalid syntax\n"
          ]
        }
      ]
    },
    {
      "cell_type": "markdown",
      "metadata": {
        "id": "62v80OPyeGrw",
        "colab_type": "text"
      },
      "source": [
        "8 - Em notação matemática é possível multiplicar x e y desta forma: xy. O que acontece se você tentar fazer o mesmo no Python?"
      ]
    },
    {
      "cell_type": "code",
      "metadata": {
        "id": "95CMO4OkeGrz",
        "colab_type": "code",
        "colab": {
          "base_uri": "https://localhost:8080/",
          "height": 197
        },
        "outputId": "73691da1-a134-4cb2-b0ba-c2cb1e27c44a"
      },
      "source": [
        "x=1\n",
        "y=2\n",
        "print (xy)"
      ],
      "execution_count": 34,
      "outputs": [
        {
          "output_type": "error",
          "ename": "NameError",
          "evalue": "ignored",
          "traceback": [
            "\u001b[0;31m---------------------------------------------------------------------------\u001b[0m",
            "\u001b[0;31mNameError\u001b[0m                                 Traceback (most recent call last)",
            "\u001b[0;32m<ipython-input-34-2d3df3191581>\u001b[0m in \u001b[0;36m<module>\u001b[0;34m()\u001b[0m\n\u001b[1;32m      1\u001b[0m \u001b[0mx\u001b[0m\u001b[0;34m=\u001b[0m\u001b[0;36m1\u001b[0m\u001b[0;34m\u001b[0m\u001b[0;34m\u001b[0m\u001b[0m\n\u001b[1;32m      2\u001b[0m \u001b[0my\u001b[0m\u001b[0;34m=\u001b[0m\u001b[0;36m2\u001b[0m\u001b[0;34m\u001b[0m\u001b[0;34m\u001b[0m\u001b[0m\n\u001b[0;32m----> 3\u001b[0;31m \u001b[0mprint\u001b[0m \u001b[0;34m(\u001b[0m\u001b[0mxy\u001b[0m\u001b[0;34m)\u001b[0m\u001b[0;34m\u001b[0m\u001b[0;34m\u001b[0m\u001b[0m\n\u001b[0m",
            "\u001b[0;31mNameError\u001b[0m: name 'xy' is not defined"
          ]
        }
      ]
    },
    {
      "cell_type": "markdown",
      "metadata": {
        "id": "YUjcHAWmeGr3",
        "colab_type": "text"
      },
      "source": [
        "---"
      ]
    },
    {
      "cell_type": "markdown",
      "metadata": {
        "id": "pAFX3vLfeGr3",
        "colab_type": "text"
      },
      "source": [
        "## Quais são as outras formas de praticar esses conceitos?\n",
        "\n",
        "<img src=\"https://media.giphy.com/media/2wS8Hh619rZvvf95op/giphy.gif\" align=\"left\">"
      ]
    },
    {
      "cell_type": "markdown",
      "metadata": {
        "id": "k0U2wwezeGr4",
        "colab_type": "text"
      },
      "source": [
        "Leia um valor inteiro. A seguir, calcule o menor número de notas possíveis (cédulas) no qual o valor pode ser decomposto. As notas consideradas são de 100, 50, 20, 10, 5, 2 e 1. Imprima o valor lido e, em seguida, a quantidade mínima de notas de cada tipo necessárias, conforme o exemplo fornecido abaixo."
      ]
    },
    {
      "cell_type": "code",
      "metadata": {
        "id": "rPNK2k3HZWFK",
        "colab_type": "code",
        "colab": {
          "base_uri": "https://localhost:8080/",
          "height": 204
        },
        "outputId": "e1c14ddd-b47e-4ebf-81e8-51d65324d47f"
      },
      "source": [
        ">>> print (\"Digite um valor inteiro\")\n",
        "valor=int(input())\n",
        "print(\"_\"*25)\n",
        "print(\"R$\",valor)\n",
        "\n",
        "nota100= valor//100\n",
        "valor = valor - nota100*100\n",
        "nota50 = valor//50\n",
        "valor = valor - nota50*50\n",
        "nota20= valor//20\n",
        "valor = valor - nota20*20\n",
        "nota10=valor//10\n",
        "valor = valor - nota10*10\n",
        "nota5= valor//5\n",
        "valor = valor - nota5*5\n",
        "nota2=valor//2\n",
        "valor = valor - nota2*2\n",
        "moeda1= valor// 1\n",
        "valor= valor - moeda1*1\n",
        "\n",
        "print('{} nota(s) de R$ 100,00'.format(nota100))\n",
        "print('{} nota(s) de R$ 50,00'.format(nota50))\n",
        "print('{} nota(s) de R$ 20,00'.format(nota20))\n",
        "print('{} nota(s) de R$ 10,00'.format(nota10))\n",
        "print('{} nota(s) de R$ 5,00'.format(nota5))\n",
        "# vírgula funciona da mesma forma\n",
        "print(nota2, 'nota(s) de R$ 2,00')\n",
        "# Usando o format com variável\n",
        "print('{moeda} moeda(s) de R$ 1,00'.format(moeda=moeda1))"
      ],
      "execution_count": 41,
      "outputs": [
        {
          "output_type": "stream",
          "text": [
            "Digite um valor inteiro\n",
            "157\n",
            "_________________________\n",
            "R$ 157\n",
            "1 nota(s) de R$ 100,00\n",
            "1 nota(s) de R$ 50,00\n",
            "0 nota(s) de R$ 20,00\n",
            "0 nota(s) de R$ 10,00\n",
            "1 nota(s) de R$ 5,00\n",
            "1 nota(s) de R$ 2,00\n",
            "0 moeda(s) de R$ 1,00\n"
          ],
          "name": "stdout"
        }
      ]
    }
  ]
}